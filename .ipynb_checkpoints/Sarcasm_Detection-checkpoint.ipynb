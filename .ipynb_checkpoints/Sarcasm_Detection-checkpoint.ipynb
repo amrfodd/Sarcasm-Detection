{
 "cells": [
  {
   "cell_type": "code",
   "execution_count": 1,
   "metadata": {
    "id": "vx_UPmFCtTC7"
   },
   "outputs": [],
   "source": [
    "#Opening the json file\n",
    "import json\n",
    "rows = []\n",
    "for line in open('Sarcasm_Headlines_Dataset.json', 'r'):\n",
    "    rows.append(json.loads(line))"
   ]
  },
  {
   "cell_type": "code",
   "execution_count": null,
   "metadata": {
    "id": "gYrGxoolq8aZ"
   },
   "outputs": [],
   "source": [
    "#Suffling the data and splitting the data into training and test sets \n",
    "import random\n",
    "SPLIT_SIZE=0.9\n",
    "suffled_set=random.sample(rows,len(rows))\n",
    "train_length=int(len(suffled_set)*SPLIT_SIZE)\n",
    "train_set=suffled_set[:train_length]\n",
    "test_set=suffled_set[train_length:]"
   ]
  },
  {
   "cell_type": "code",
   "execution_count": null,
   "metadata": {
    "colab": {
     "base_uri": "https://localhost:8080/",
     "height": 72
    },
    "id": "4PaUlhjcvcgs",
    "outputId": "7a7b0b6b-3709-49cd-d33c-77ba6da30f8b"
   },
   "outputs": [
    {
     "name": "stdout",
     "output_type": "stream",
     "text": [
      "Total length of the dataset:  26709\n",
      "Length of the Training dataset:  24038\n",
      "Length of the Test dataset:  2671\n"
     ]
    }
   ],
   "source": [
    "#Data Summary\n",
    "print('Total length of the dataset: ',len(suffled_set))\n",
    "print('Length of the Training dataset: ',len(train_set))\n",
    "print('Length of the Test dataset: ',len(test_set))"
   ]
  },
  {
   "cell_type": "code",
   "execution_count": null,
   "metadata": {
    "colab": {
     "base_uri": "https://localhost:8080/",
     "height": 72
    },
    "id": "SvTrRK_DtZ45",
    "outputId": "ad3e851e-d5e8-4c9a-d7e3-de0c6fc225f1"
   },
   "outputs": [
    {
     "data": {
      "text/plain": [
       "{'article_link': 'https://www.huffingtonpost.com/entry/abandoned-places-around-the-world-photos_us_562a70fce4b0aac0b8fccfef',\n",
       " 'headline': 'these photos of abandoned places around the world are real creepy',\n",
       " 'is_sarcastic': 0}"
      ]
     },
     "execution_count": 6,
     "metadata": {
      "tags": []
     },
     "output_type": "execute_result"
    }
   ],
   "source": [
    "#Data Format\n",
    "train_set[1000]"
   ]
  },
  {
   "cell_type": "code",
   "execution_count": null,
   "metadata": {
    "id": "1cV42oc53B3z"
   },
   "outputs": [],
   "source": [
    "#This list is available at https://github.com/Yoast/YoastSEO.js/blob/develop/src/config/stopwords.js\n",
    "stopwords=[ \"a\", \"about\", \"above\", \"after\", \"again\", \"against\", \"all\", \"am\", \"an\", \"and\", \"any\", \"are\", \"as\", \"at\", \"be\", \"because\", \"been\", \"before\", \"being\", \"below\", \"between\", \"both\", \"but\", \"by\", \"could\", \"did\", \"do\", \"does\", \"doing\", \"down\", \"during\", \"each\", \"few\", \"for\", \"from\", \"further\", \"had\", \"has\", \"have\", \"having\", \"he\", \"he'd\", \"he'll\", \"he's\", \"her\", \"here\", \"here's\", \"hers\", \"herself\", \"him\", \"himself\", \"his\", \"how\", \"how's\", \"i\", \"i'd\", \"i'll\", \"i'm\", \"i've\", \"if\", \"in\", \"into\", \"is\", \"it\", \"it's\", \"its\", \"itself\", \"let's\", \"me\", \"more\", \"most\", \"my\", \"myself\", \"nor\", \"of\", \"on\", \"once\", \"only\", \"or\", \"other\", \"ought\", \"our\", \"ours\", \"ourselves\", \"out\", \"over\", \"own\", \"same\", \"she\", \"she'd\", \"she'll\", \"she's\", \"should\", \"so\", \"some\", \"such\", \"than\", \"that\", \"that's\", \"the\", \"their\", \"theirs\", \"them\", \"themselves\", \"then\", \"there\", \"there's\", \"these\", \"they\", \"they'd\", \"they'll\", \"they're\", \"they've\", \"this\", \"those\", \"through\", \"to\", \"too\", \"under\", \"until\", \"up\", \"very\", \"was\", \"we\", \"we'd\", \"we'll\", \"we're\", \"we've\", \"were\", \"what\", \"what's\", \"when\", \"when's\", \"where\", \"where's\", \"which\", \"while\", \"who\", \"who's\", \"whom\", \"why\", \"why's\", \"with\", \"would\", \"you\", \"you'd\", \"you'll\", \"you're\", \"you've\", \"your\", \"yours\", \"yourself\", \"yourselves\" ]"
   ]
  },
  {
   "cell_type": "code",
   "execution_count": null,
   "metadata": {
    "id": "RtHAQW6G3VTv"
   },
   "outputs": [],
   "source": [
    "#Function to remove stopwords\n",
    "def remove_stopwords(sentence):\n",
    "  for word in stopwords:\n",
    "    token=' '+word+' '\n",
    "    sentence=sentence.replace(token,' ')\n",
    "    sentence=sentence.replace('  ',' ')\n",
    "  return sentence"
   ]
  },
  {
   "cell_type": "code",
   "execution_count": null,
   "metadata": {
    "id": "pv4FShuLwQwm"
   },
   "outputs": [],
   "source": [
    "#Function to get the plain text from the link of an article\n",
    "def get_article(link):\n",
    "  try:\n",
    "    from bs4 import BeautifulSoup\n",
    "    import urllib.request\n",
    "\n",
    "    user_agent = 'Mozilla/5.0 (Windows; U; Windows NT 5.1; en-US; rv:1.9.0.7) Gecko/2009021910 Firefox/3.0.7'\n",
    "\n",
    "    url = link\n",
    "\n",
    "    headers={'User-Agent':user_agent,} \n",
    "\n",
    "    request=urllib.request.Request(url,None,headers) #The assembled request\n",
    "    response = urllib.request.urlopen(request)\n",
    "    html= response.read()\n",
    "    soup = BeautifulSoup(html)\n",
    "\n",
    "    # kill all script and style elements\n",
    "    for script in soup([\"script\", \"style\"]):\n",
    "        script.extract()    # rip it out\n",
    "\n",
    "    # get text\n",
    "    text = soup.get_text()\n",
    "\n",
    "    # break into lines and remove leading and trailing space on each\n",
    "    lines = (line.strip() for line in text.splitlines())\n",
    "    # break multi-headlines into a line each\n",
    "    chunks = (phrase.strip() for line in lines for phrase in line.split(\"  \"))\n",
    "    # drop blank lines\n",
    "    text = '\\n'.join(chunk for chunk in chunks if chunk)\n",
    "    return ' '.join(text.split())\n",
    "  except:\n",
    "    return 'article not available'\n",
    "    pass\n",
    "  \n",
    " "
   ]
  },
  {
   "cell_type": "code",
   "execution_count": null,
   "metadata": {
    "id": "avDhe2Hs0lrL"
   },
   "outputs": [],
   "source": [
    "#Function to separate the articles, headlines and labels from the data\n",
    "def extract(array):\n",
    "  \n",
    "  #articles=[]\n",
    "  headlines=[]\n",
    "  labels=[]\n",
    "  for i in range(len(array)):\n",
    "    labels.append(array[i]['is_sarcastic'])\n",
    "    headlines.append(remove_stopwords(array[i]['headline']))\n",
    "    #articles.append(get_article(array[i]['article_link']))\n",
    "  #return articles,headlines,labels\n",
    "  return headlines,labels"
   ]
  },
  {
   "cell_type": "code",
   "execution_count": null,
   "metadata": {
    "id": "AFpG2G0W8kq7"
   },
   "outputs": [],
   "source": [
    "#Extracting articles, headlines and labels from the data\n",
    "#train_articles,train_headlines,train_labels=extract(train_set)\n",
    "train_headlines,train_labels=extract(train_set)\n",
    "#test_articles,test_headlines,test_labels=extract(test_set)\n",
    "test_headlines,test_labels=extract(test_set)"
   ]
  },
  {
   "cell_type": "code",
   "execution_count": null,
   "metadata": {
    "id": "OMfJ4sL41MnL"
   },
   "outputs": [],
   "source": [
    "#Preprocessing the training and test headlines for the word embedding\n",
    "vocab_size = 10000\n",
    "embedding_dim = 16\n",
    "max_length = 120\n",
    "trunc_type='post'\n",
    "oov_tok = \"<OOV>\"\n",
    "\n",
    "import tensorflow as tf\n",
    "from tensorflow import keras\n",
    "from tensorflow.keras.preprocessing.text import Tokenizer\n",
    "from tensorflow.keras.preprocessing.sequence import pad_sequences\n",
    "\n",
    "tokenizer = Tokenizer(num_words = vocab_size, oov_token=oov_tok)\n",
    "tokenizer.fit_on_texts(train_headlines)\n",
    "word_index = tokenizer.word_index\n",
    "sequences = tokenizer.texts_to_sequences(train_headlines)\n",
    "padded = pad_sequences(sequences,maxlen=max_length, truncating=trunc_type)\n",
    "\n",
    "test_sequences = tokenizer.texts_to_sequences(test_headlines)\n",
    "test_padded = pad_sequences(test_sequences,maxlen=max_length)\n"
   ]
  },
  {
   "cell_type": "markdown",
   "metadata": {
    "id": "dkN5qu_LzkQb"
   },
   "source": [
    "# **CONVOLUTIONAL NEURAL NETWORK (CNN)**"
   ]
  },
  {
   "cell_type": "code",
   "execution_count": null,
   "metadata": {
    "id": "8Z4t8mvm34Sl"
   },
   "outputs": [],
   "source": [
    "#Building the CNN Model\n",
    "model_conv = tf.keras.Sequential([\n",
    "    tf.keras.layers.Embedding(vocab_size, embedding_dim, input_length=max_length),\n",
    "    tf.keras.layers.Conv1D(16,3,activation='relu'),\n",
    "    tf.keras.layers.MaxPooling1D(2),\n",
    "    #tf.keras.layers.Dropout(0.2),\n",
    "    tf.keras.layers.Flatten(),\n",
    "    tf.keras.layers.Dense(6, activation='relu'),\n",
    "    tf.keras.layers.Dense(1, activation='sigmoid')\n",
    "])\n"
   ]
  },
  {
   "cell_type": "code",
   "execution_count": null,
   "metadata": {
    "colab": {
     "base_uri": "https://localhost:8080/",
     "height": 381
    },
    "id": "_1RldOimvU_E",
    "outputId": "f53470fe-f6b1-43c9-8296-c7c5bfd036db"
   },
   "outputs": [
    {
     "name": "stdout",
     "output_type": "stream",
     "text": [
      "Model: \"sequential_13\"\n",
      "_________________________________________________________________\n",
      "Layer (type)                 Output Shape              Param #   \n",
      "=================================================================\n",
      "embedding_13 (Embedding)     (None, 120, 16)           160000    \n",
      "_________________________________________________________________\n",
      "conv1d_4 (Conv1D)            (None, 118, 16)           784       \n",
      "_________________________________________________________________\n",
      "max_pooling1d_4 (MaxPooling1 (None, 59, 16)            0         \n",
      "_________________________________________________________________\n",
      "flatten_4 (Flatten)          (None, 944)               0         \n",
      "_________________________________________________________________\n",
      "dense_26 (Dense)             (None, 6)                 5670      \n",
      "_________________________________________________________________\n",
      "dense_27 (Dense)             (None, 1)                 7         \n",
      "=================================================================\n",
      "Total params: 166,461\n",
      "Trainable params: 166,461\n",
      "Non-trainable params: 0\n",
      "_________________________________________________________________\n"
     ]
    }
   ],
   "source": [
    "model_conv.summary()"
   ]
  },
  {
   "cell_type": "code",
   "execution_count": null,
   "metadata": {
    "colab": {
     "base_uri": "https://localhost:8080/",
     "height": 763
    },
    "id": "8fbYwVW8rUWN",
    "outputId": "cd32f45f-ec26-4d25-9608-19f15163a0cc"
   },
   "outputs": [
    {
     "name": "stdout",
     "output_type": "stream",
     "text": [
      "Train on 24038 samples, validate on 2671 samples\n",
      "Epoch 1/20\n",
      "24038/24038 [==============================] - 4s 182us/sample - loss: 0.5161 - acc: 0.7135 - val_loss: 0.3822 - val_acc: 0.8165\n",
      "Epoch 2/20\n",
      "24038/24038 [==============================] - 3s 115us/sample - loss: 0.2645 - acc: 0.8911 - val_loss: 0.3711 - val_acc: 0.8225\n",
      "Epoch 3/20\n",
      "24038/24038 [==============================] - 3s 117us/sample - loss: 0.1631 - acc: 0.9394 - val_loss: 0.4183 - val_acc: 0.8304\n",
      "Epoch 4/20\n",
      "24038/24038 [==============================] - 3s 117us/sample - loss: 0.0936 - acc: 0.9694 - val_loss: 0.5168 - val_acc: 0.8222\n",
      "Epoch 5/20\n",
      "24038/24038 [==============================] - 3s 116us/sample - loss: 0.0497 - acc: 0.9857 - val_loss: 0.6177 - val_acc: 0.8210\n",
      "Epoch 6/20\n",
      "24038/24038 [==============================] - 3s 116us/sample - loss: 0.0252 - acc: 0.9941 - val_loss: 0.7077 - val_acc: 0.8147\n",
      "Epoch 7/20\n",
      "24038/24038 [==============================] - 3s 117us/sample - loss: 0.0128 - acc: 0.9969 - val_loss: 0.8226 - val_acc: 0.8173\n",
      "Epoch 8/20\n",
      "24038/24038 [==============================] - 3s 117us/sample - loss: 0.0071 - acc: 0.9983 - val_loss: 0.9301 - val_acc: 0.8147\n",
      "Epoch 9/20\n",
      "24038/24038 [==============================] - 3s 117us/sample - loss: 0.0030 - acc: 0.9995 - val_loss: 1.0268 - val_acc: 0.8147\n",
      "Epoch 10/20\n",
      "24038/24038 [==============================] - 3s 117us/sample - loss: 0.0018 - acc: 0.9995 - val_loss: 1.1185 - val_acc: 0.8162\n",
      "Epoch 11/20\n",
      "24038/24038 [==============================] - 3s 117us/sample - loss: 0.0015 - acc: 0.9995 - val_loss: 1.1652 - val_acc: 0.8132\n",
      "Epoch 12/20\n",
      "24038/24038 [==============================] - 3s 116us/sample - loss: 0.0012 - acc: 0.9997 - val_loss: 1.2450 - val_acc: 0.8128\n",
      "Epoch 13/20\n",
      "24038/24038 [==============================] - 3s 116us/sample - loss: 0.0013 - acc: 0.9996 - val_loss: 1.2389 - val_acc: 0.8128\n",
      "Epoch 14/20\n",
      "24038/24038 [==============================] - 3s 116us/sample - loss: 0.0012 - acc: 0.9995 - val_loss: 1.3010 - val_acc: 0.8109\n",
      "Epoch 15/20\n",
      "24038/24038 [==============================] - 3s 119us/sample - loss: 0.0011 - acc: 0.9997 - val_loss: 1.4551 - val_acc: 0.8106\n",
      "Epoch 16/20\n",
      "24038/24038 [==============================] - 3s 119us/sample - loss: 0.0016 - acc: 0.9994 - val_loss: 1.4844 - val_acc: 0.8034\n",
      "Epoch 17/20\n",
      "24038/24038 [==============================] - 3s 119us/sample - loss: 0.0010 - acc: 0.9996 - val_loss: 1.5056 - val_acc: 0.8094\n",
      "Epoch 18/20\n",
      "24038/24038 [==============================] - 3s 117us/sample - loss: 9.2385e-04 - acc: 0.9997 - val_loss: 1.5196 - val_acc: 0.8068\n",
      "Epoch 19/20\n",
      "24038/24038 [==============================] - 3s 117us/sample - loss: 8.6578e-04 - acc: 0.9997 - val_loss: 1.5515 - val_acc: 0.8034\n",
      "Epoch 20/20\n",
      "24038/24038 [==============================] - 3s 117us/sample - loss: 8.9199e-04 - acc: 0.9997 - val_loss: 1.5544 - val_acc: 0.8042\n"
     ]
    }
   ],
   "source": [
    "model_conv.compile(loss='binary_crossentropy',optimizer='adam',metrics=['accuracy'])\n",
    "num_epochs = 20\n",
    "history=model_conv.fit(padded, train_labels, epochs=num_epochs, validation_data=(test_padded, test_labels))"
   ]
  },
  {
   "cell_type": "code",
   "execution_count": null,
   "metadata": {
    "colab": {
     "base_uri": "https://localhost:8080/",
     "height": 521
    },
    "id": "jkAx_IzhsQKt",
    "outputId": "6bb291ad-0691-42c8-cd5f-8d54c584bf52"
   },
   "outputs": [
    {
     "data": {
      "image/png": "[encoded data removed]",
      "text/plain": [
       "<Figure size 432x288 with 1 Axes>"
      ]
     },
     "metadata": {
      "tags": []
     },
     "output_type": "display_data"
    },
    {
     "data": {
      "image/png": "[encoded data removed]",
      "text/plain": [
       "<Figure size 432x288 with 1 Axes>"
      ]
     },
     "metadata": {
      "tags": []
     },
     "output_type": "display_data"
    }
   ],
   "source": [
    "#Evaluating Accuracy and Loss of the model\n",
    "%matplotlib inline\n",
    "acc=history.history['acc']\n",
    "val_acc=history.history['val_acc']\n",
    "loss=history.history['loss']\n",
    "val_loss=history.history['val_loss']\n",
    "\n",
    "epochs=range(len(acc)) #No. of epochs\n",
    "\n",
    "#Plot training and validation accuracy per epoch\n",
    "import matplotlib.pyplot as plt\n",
    "plt.plot(epochs,acc,'r',label='Training Accuracy')\n",
    "plt.plot(epochs,val_acc,'g',label='Testing Accuracy')\n",
    "plt.legend()\n",
    "plt.figure()\n",
    "\n",
    "#Plot training and validation loss per epoch\n",
    "plt.plot(epochs,loss,'r',label='Training Loss')\n",
    "plt.plot(epochs,val_loss,'g',label='Testing Loss')\n",
    "plt.legend()\n",
    "plt.show()"
   ]
  },
  {
   "cell_type": "markdown",
   "metadata": {
    "id": "Z8RByV7mzPih"
   },
   "source": [
    "# **Bidirectional GATED RECURRENT UNIT (GRU)**"
   ]
  },
  {
   "cell_type": "code",
   "execution_count": null,
   "metadata": {
    "id": "mTx2htPXyICQ"
   },
   "outputs": [],
   "source": [
    "#Building the GRU Model\n",
    "model_gru = tf.keras.Sequential([\n",
    "    tf.keras.layers.Embedding(vocab_size, embedding_dim, input_length=max_length),\n",
    "    tf.keras.layers.Bidirectional(tf.keras.layers.GRU(16)),\n",
    "    tf.keras.layers.Dense(6, activation='relu'),\n",
    "    tf.keras.layers.Dense(1, activation='sigmoid')\n",
    "])\n"
   ]
  },
  {
   "cell_type": "code",
   "execution_count": null,
   "metadata": {
    "colab": {
     "base_uri": "https://localhost:8080/",
     "height": 308
    },
    "id": "WU2_ttenynGy",
    "outputId": "7e2be146-4e03-4aea-a771-400a46c0c4fe"
   },
   "outputs": [
    {
     "name": "stdout",
     "output_type": "stream",
     "text": [
      "Model: \"sequential_11\"\n",
      "_________________________________________________________________\n",
      "Layer (type)                 Output Shape              Param #   \n",
      "=================================================================\n",
      "embedding_11 (Embedding)     (None, 120, 16)           160000    \n",
      "_________________________________________________________________\n",
      "bidirectional_7 (Bidirection (None, 32)                3168      \n",
      "_________________________________________________________________\n",
      "dense_22 (Dense)             (None, 6)                 198       \n",
      "_________________________________________________________________\n",
      "dense_23 (Dense)             (None, 1)                 7         \n",
      "=================================================================\n",
      "Total params: 163,373\n",
      "Trainable params: 163,373\n",
      "Non-trainable params: 0\n",
      "_________________________________________________________________\n"
     ]
    }
   ],
   "source": [
    "model_gru.summary() "
   ]
  },
  {
   "cell_type": "code",
   "execution_count": null,
   "metadata": {
    "colab": {
     "base_uri": "https://localhost:8080/",
     "height": 763
    },
    "id": "LACeEHlTy3_z",
    "outputId": "75191fd4-f823-418c-ee7f-ad46632ce660"
   },
   "outputs": [
    {
     "name": "stdout",
     "output_type": "stream",
     "text": [
      "Train on 24038 samples, validate on 2671 samples\n",
      "Epoch 1/20\n",
      "24038/24038 [==============================] - 11s 456us/sample - loss: 0.6926 - acc: 0.5488 - val_loss: 0.6914 - val_acc: 0.5762\n",
      "Epoch 2/20\n",
      "24038/24038 [==============================] - 9s 382us/sample - loss: 0.6913 - acc: 0.5594 - val_loss: 0.6900 - val_acc: 0.5762\n",
      "Epoch 3/20\n",
      "24038/24038 [==============================] - 9s 380us/sample - loss: 0.6901 - acc: 0.5594 - val_loss: 0.6883 - val_acc: 0.5758\n",
      "Epoch 4/20\n",
      "24038/24038 [==============================] - 9s 377us/sample - loss: 0.6836 - acc: 0.6404 - val_loss: 0.6746 - val_acc: 0.6799\n",
      "Epoch 5/20\n",
      "24038/24038 [==============================] - 9s 380us/sample - loss: 0.6278 - acc: 0.7402 - val_loss: 0.5915 - val_acc: 0.7488\n",
      "Epoch 6/20\n",
      "24038/24038 [==============================] - 9s 378us/sample - loss: 0.5254 - acc: 0.8512 - val_loss: 0.5869 - val_acc: 0.7495\n",
      "Epoch 7/20\n",
      "24038/24038 [==============================] - 9s 386us/sample - loss: 0.4708 - acc: 0.8769 - val_loss: 0.5584 - val_acc: 0.8124\n",
      "Epoch 8/20\n",
      "24038/24038 [==============================] - 9s 378us/sample - loss: 0.4329 - acc: 0.9110 - val_loss: 0.6054 - val_acc: 0.7971\n",
      "Epoch 9/20\n",
      "24038/24038 [==============================] - 9s 370us/sample - loss: 0.4052 - acc: 0.9250 - val_loss: 0.5905 - val_acc: 0.8117\n",
      "Epoch 10/20\n",
      "24038/24038 [==============================] - 9s 374us/sample - loss: 0.3845 - acc: 0.9377 - val_loss: 0.7182 - val_acc: 0.7945\n",
      "Epoch 11/20\n",
      "24038/24038 [==============================] - 9s 380us/sample - loss: 0.3663 - acc: 0.9442 - val_loss: 0.6598 - val_acc: 0.8113\n",
      "Epoch 12/20\n",
      "24038/24038 [==============================] - 9s 375us/sample - loss: 0.3524 - acc: 0.9515 - val_loss: 0.7240 - val_acc: 0.8087\n",
      "Epoch 13/20\n",
      "24038/24038 [==============================] - 9s 374us/sample - loss: 0.3393 - acc: 0.9573 - val_loss: 0.7956 - val_acc: 0.8057\n",
      "Epoch 14/20\n",
      "24038/24038 [==============================] - 9s 372us/sample - loss: 0.3284 - acc: 0.9601 - val_loss: 0.8996 - val_acc: 0.8001\n",
      "Epoch 15/20\n",
      "24038/24038 [==============================] - 9s 376us/sample - loss: 0.3185 - acc: 0.9624 - val_loss: 0.9156 - val_acc: 0.8019\n",
      "Epoch 16/20\n",
      "24038/24038 [==============================] - 9s 385us/sample - loss: 0.3101 - acc: 0.9648 - val_loss: 0.8086 - val_acc: 0.8019\n",
      "Epoch 17/20\n",
      "24038/24038 [==============================] - 9s 380us/sample - loss: 0.3255 - acc: 0.9480 - val_loss: 0.8211 - val_acc: 0.7990\n",
      "Epoch 18/20\n",
      "24038/24038 [==============================] - 9s 373us/sample - loss: 0.3028 - acc: 0.9606 - val_loss: 1.0164 - val_acc: 0.8034\n",
      "Epoch 19/20\n",
      "24038/24038 [==============================] - 9s 372us/sample - loss: 0.2928 - acc: 0.9657 - val_loss: 0.9878 - val_acc: 0.8016\n",
      "Epoch 20/20\n",
      "24038/24038 [==============================] - 9s 372us/sample - loss: 0.2858 - acc: 0.9674 - val_loss: 1.0770 - val_acc: 0.7975\n"
     ]
    }
   ],
   "source": [
    "model_gru.compile(loss='binary_crossentropy',optimizer='adam',metrics=['accuracy'])\n",
    "num_epochs = 20\n",
    "history1=model_gru.fit(padded, train_labels, batch_size=1000,epochs=num_epochs, validation_data=(test_padded, test_labels))"
   ]
  },
  {
   "cell_type": "code",
   "execution_count": null,
   "metadata": {
    "colab": {
     "base_uri": "https://localhost:8080/",
     "height": 521
    },
    "id": "6uxUmW7Xy9sy",
    "outputId": "0be720b0-8de2-4c07-dab7-4b0bfa531293"
   },
   "outputs": [
    {
     "data": {
      "image/png": "[encoded data removed]",
      "text/plain": [
       "<Figure size 432x288 with 1 Axes>"
      ]
     },
     "metadata": {
      "tags": []
     },
     "output_type": "display_data"
    },
    {
     "data": {
      "image/png": "[encoded data removed]",
      "text/plain": [
       "<Figure size 432x288 with 1 Axes>"
      ]
     },
     "metadata": {
      "tags": []
     },
     "output_type": "display_data"
    }
   ],
   "source": [
    "#Evaluating Accuracy and Loss of the model\n",
    "%matplotlib inline\n",
    "acc=history1.history['acc']\n",
    "val_acc=history1.history['val_acc']\n",
    "loss=history1.history['loss']\n",
    "val_loss=history1.history['val_loss']\n",
    "\n",
    "epochs=range(len(acc)) #No. of epochs\n",
    "\n",
    "#Plot training and validation accuracy per epoch\n",
    "import matplotlib.pyplot as plt\n",
    "plt.plot(epochs,acc,'r',label='Training Accuracy')\n",
    "plt.plot(epochs,val_acc,'g',label='Testing Accuracy')\n",
    "plt.legend()\n",
    "plt.figure()\n",
    "\n",
    "#Plot training and validation loss per epoch\n",
    "plt.plot(epochs,loss,'r',label='Training Loss')\n",
    "plt.plot(epochs,val_loss,'g',label='Testing Loss')\n",
    "plt.legend()\n",
    "plt.show()"
   ]
  },
  {
   "cell_type": "markdown",
   "metadata": {
    "id": "t7DIrf0Az8cu"
   },
   "source": [
    "# **Bidirectional LONG SHORT TERM MEMORY (LSTM)**"
   ]
  },
  {
   "cell_type": "code",
   "execution_count": null,
   "metadata": {
    "id": "KsIDuneX0fVF"
   },
   "outputs": [],
   "source": [
    "#Building the LSTM Model\n",
    "model_lstm = tf.keras.Sequential([\n",
    "    tf.keras.layers.Embedding(vocab_size, embedding_dim, input_length=max_length),\n",
    "    tf.keras.layers.Bidirectional(tf.keras.layers.LSTM(16)),\n",
    "    tf.keras.layers.Dense(6, activation='relu'),\n",
    "    tf.keras.layers.Dense(1, activation='sigmoid')\n",
    "])\n"
   ]
  },
  {
   "cell_type": "code",
   "execution_count": null,
   "metadata": {
    "colab": {
     "base_uri": "https://localhost:8080/",
     "height": 308
    },
    "id": "2v8Akic20kA4",
    "outputId": "883ec295-174b-4fba-d84d-5684085b3862"
   },
   "outputs": [
    {
     "name": "stdout",
     "output_type": "stream",
     "text": [
      "Model: \"sequential_12\"\n",
      "_________________________________________________________________\n",
      "Layer (type)                 Output Shape              Param #   \n",
      "=================================================================\n",
      "embedding_12 (Embedding)     (None, 120, 16)           160000    \n",
      "_________________________________________________________________\n",
      "bidirectional_8 (Bidirection (None, 32)                4224      \n",
      "_________________________________________________________________\n",
      "dense_24 (Dense)             (None, 6)                 198       \n",
      "_________________________________________________________________\n",
      "dense_25 (Dense)             (None, 1)                 7         \n",
      "=================================================================\n",
      "Total params: 164,429\n",
      "Trainable params: 164,429\n",
      "Non-trainable params: 0\n",
      "_________________________________________________________________\n"
     ]
    }
   ],
   "source": [
    "model_lstm.summary()"
   ]
  },
  {
   "cell_type": "code",
   "execution_count": null,
   "metadata": {
    "colab": {
     "base_uri": "https://localhost:8080/",
     "height": 763
    },
    "id": "UBGXTl550omc",
    "outputId": "255a5b9a-82bd-47b8-92cb-d10adeffe8cb"
   },
   "outputs": [
    {
     "name": "stdout",
     "output_type": "stream",
     "text": [
      "Train on 24038 samples, validate on 2671 samples\n",
      "Epoch 1/20\n",
      "24038/24038 [==============================] - 13s 540us/sample - loss: 0.6883 - acc: 0.5555 - val_loss: 0.6802 - val_acc: 0.5762\n",
      "Epoch 2/20\n",
      "24038/24038 [==============================] - 11s 443us/sample - loss: 0.6808 - acc: 0.5594 - val_loss: 0.6707 - val_acc: 0.5762\n",
      "Epoch 3/20\n",
      "24038/24038 [==============================] - 11s 448us/sample - loss: 0.6505 - acc: 0.5594 - val_loss: 0.6203 - val_acc: 0.5766\n",
      "Epoch 4/20\n",
      "24038/24038 [==============================] - 11s 452us/sample - loss: 0.5706 - acc: 0.6706 - val_loss: 0.5504 - val_acc: 0.7754\n",
      "Epoch 5/20\n",
      "24038/24038 [==============================] - 11s 453us/sample - loss: 0.4714 - acc: 0.8223 - val_loss: 0.4722 - val_acc: 0.8068\n",
      "Epoch 6/20\n",
      "24038/24038 [==============================] - 11s 447us/sample - loss: 0.3551 - acc: 0.8843 - val_loss: 0.3996 - val_acc: 0.8259\n",
      "Epoch 7/20\n",
      "24038/24038 [==============================] - 10s 435us/sample - loss: 0.2733 - acc: 0.9034 - val_loss: 0.3793 - val_acc: 0.8300\n",
      "Epoch 8/20\n",
      "24038/24038 [==============================] - 11s 440us/sample - loss: 0.2264 - acc: 0.9156 - val_loss: 0.4056 - val_acc: 0.8192\n",
      "Epoch 9/20\n",
      "24038/24038 [==============================] - 11s 444us/sample - loss: 0.2008 - acc: 0.9261 - val_loss: 0.4011 - val_acc: 0.8289\n",
      "Epoch 10/20\n",
      "24038/24038 [==============================] - 11s 451us/sample - loss: 0.1785 - acc: 0.9371 - val_loss: 0.4289 - val_acc: 0.8151\n",
      "Epoch 11/20\n",
      "24038/24038 [==============================] - 11s 438us/sample - loss: 0.1696 - acc: 0.9396 - val_loss: 0.4459 - val_acc: 0.8192\n",
      "Epoch 12/20\n",
      "24038/24038 [==============================] - 11s 445us/sample - loss: 0.1519 - acc: 0.9483 - val_loss: 0.4515 - val_acc: 0.8210\n",
      "Epoch 13/20\n",
      "24038/24038 [==============================] - 11s 441us/sample - loss: 0.1368 - acc: 0.9551 - val_loss: 0.4731 - val_acc: 0.8177\n",
      "Epoch 14/20\n",
      "24038/24038 [==============================] - 11s 448us/sample - loss: 0.1263 - acc: 0.9577 - val_loss: 0.4996 - val_acc: 0.8173\n",
      "Epoch 15/20\n",
      "24038/24038 [==============================] - 11s 439us/sample - loss: 0.1160 - acc: 0.9631 - val_loss: 0.5167 - val_acc: 0.8165\n",
      "Epoch 16/20\n",
      "24038/24038 [==============================] - 11s 447us/sample - loss: 0.1081 - acc: 0.9659 - val_loss: 0.5550 - val_acc: 0.8151\n",
      "Epoch 17/20\n",
      "24038/24038 [==============================] - 11s 447us/sample - loss: 0.1004 - acc: 0.9695 - val_loss: 0.5774 - val_acc: 0.8132\n",
      "Epoch 18/20\n",
      "24038/24038 [==============================] - 11s 445us/sample - loss: 0.1569 - acc: 0.9371 - val_loss: 0.5406 - val_acc: 0.8079\n",
      "Epoch 19/20\n",
      "24038/24038 [==============================] - 11s 449us/sample - loss: 0.1065 - acc: 0.9653 - val_loss: 0.5839 - val_acc: 0.8139\n",
      "Epoch 20/20\n",
      "24038/24038 [==============================] - 11s 441us/sample - loss: 0.0927 - acc: 0.9710 - val_loss: 0.5904 - val_acc: 0.8106\n"
     ]
    }
   ],
   "source": [
    "model_lstm.compile(loss='binary_crossentropy',optimizer='adam',metrics=['accuracy'])\n",
    "num_epochs = 20\n",
    "history2=model_lstm.fit(padded, train_labels, batch_size=1000,epochs=num_epochs, validation_data=(test_padded, test_labels))"
   ]
  },
  {
   "cell_type": "code",
   "execution_count": null,
   "metadata": {
    "colab": {
     "base_uri": "https://localhost:8080/",
     "height": 521
    },
    "id": "2xhhisVK01Y0",
    "outputId": "b680b6a7-4807-4205-c399-8cf3d98eec5e"
   },
   "outputs": [
    {
     "data": {
      "image/png": "[encoded data removed]",
      "text/plain": [
       "<Figure size 432x288 with 1 Axes>"
      ]
     },
     "metadata": {
      "tags": []
     },
     "output_type": "display_data"
    },
    {
     "data": {
      "image/png": "[encoded data removed]",
      "text/plain": [
       "<Figure size 432x288 with 1 Axes>"
      ]
     },
     "metadata": {
      "tags": []
     },
     "output_type": "display_data"
    }
   ],
   "source": [
    "#Evaluating Accuracy and Loss of the model\n",
    "%matplotlib inline\n",
    "acc=history2.history['acc']\n",
    "val_acc=history2.history['val_acc']\n",
    "loss=history2.history['loss']\n",
    "val_loss=history2.history['val_loss']\n",
    "\n",
    "epochs=range(len(acc)) #No. of epochs\n",
    "\n",
    "#Plot training and validation accuracy per epoch\n",
    "import matplotlib.pyplot as plt\n",
    "plt.plot(epochs,acc,'r',label='Training Accuracy')\n",
    "plt.plot(epochs,val_acc,'g',label='Testing Accuracy')\n",
    "plt.legend()\n",
    "plt.figure()\n",
    "\n",
    "#Plot training and validation loss per epoch\n",
    "plt.plot(epochs,loss,'r',label='Training Loss')\n",
    "plt.plot(epochs,val_loss,'g',label='Testing Loss')\n",
    "plt.legend()\n",
    "plt.show()"
   ]
  }
 ],
 "metadata": {
  "accelerator": "GPU",
  "colab": {
   "collapsed_sections": [],
   "name": "Sarcasm Detection.ipynb",
   "provenance": []
  },
  "kernelspec": {
   "display_name": "Python 3 (ipykernel)",
   "language": "python",
   "name": "python3"
  },
  "language_info": {
   "codemirror_mode": {
    "name": "ipython",
    "version": 3
   },
   "file_extension": ".py",
   "mimetype": "text/x-python",
   "name": "python",
   "nbconvert_exporter": "python",
   "pygments_lexer": "ipython3",
   "version": "3.9.12"
  }
 },
 "nbformat": 4,
 "nbformat_minor": 1
}
