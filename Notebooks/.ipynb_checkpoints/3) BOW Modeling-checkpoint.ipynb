{
 "cells": [
  {
   "cell_type": "markdown",
   "id": "c2d11a44",
   "metadata": {},
   "source": [
    "# Articles Recommendation Categorization\n",
    "\n",
    "Recommending web articles for the learners for different study programs"
   ]
  },
  {
   "cell_type": "markdown",
   "id": "8e79b41d",
   "metadata": {},
   "source": [
    "### 1) Import libraries\n"
   ]
  },
  {
   "cell_type": "code",
   "execution_count": 30,
   "id": "fe9096b0",
   "metadata": {},
   "outputs": [],
   "source": [
    "import numpy as np\n",
    "import pandas as pd\n",
    "import pickle\n",
    "\n",
    "from sklearn.metrics import classification_report, confusion_matrix\n",
    "from sklearn.model_selection import train_test_split\n",
    "\n",
    "from sklearn import svm\n",
    "from sklearn.feature_extraction.text import TfidfVectorizer\n",
    "import pandas as pd\n",
    "import pickle\n",
    "import matplotlib.pyplot as plt\n",
    "import seaborn as sns\n",
    "from sklearn.model_selection import cross_val_score\n",
    "\n",
    "from sklearn.svm import SVC\n",
    "from sklearn.model_selection import StratifiedShuffleSplit\n",
    "from sklearn.model_selection import GridSearchCV\n",
    "\n",
    "from sklearn.naive_bayes import MultinomialNB\n",
    "import time"
   ]
  },
  {
   "cell_type": "markdown",
   "id": "5339ed37",
   "metadata": {},
   "source": [
    "### 2) Data Loading"
   ]
  },
  {
   "cell_type": "code",
   "execution_count": 15,
   "id": "b627628a",
   "metadata": {},
   "outputs": [],
   "source": [
    "#  Load BOW vectors\n",
    "with open('../vectors/BOW_train.pkl', 'rb') as handle:\n",
    "    BOW_train = pickle.load(handle)\n",
    "    \n",
    "with open('../vectors/BOW_test.pkl', 'rb') as handle:\n",
    "    BOW_test = pickle.load(handle)\n"
   ]
  },
  {
   "cell_type": "code",
   "execution_count": 18,
   "id": "c3a16451",
   "metadata": {},
   "outputs": [],
   "source": [
    "# ## Load Label Vectors\n",
    "\n",
    "with open('../Vectors/train_label.pkl', 'rb') as handle:\n",
    "    y_train = pickle.load(handle)\n",
    "\n",
    "with open('../Vectors/test_label.pkl', 'rb') as handle:\n",
    "    y_test = pickle.load(handle)"
   ]
  },
  {
   "cell_type": "markdown",
   "id": "e3a0f02d",
   "metadata": {},
   "source": [
    "## 3) SVM"
   ]
  },
  {
   "cell_type": "code",
   "execution_count": 19,
   "id": "7e90b286",
   "metadata": {},
   "outputs": [
    {
     "name": "stdout",
     "output_type": "stream",
     "text": [
      "              precision    recall  f1-score   support\n",
      "\n",
      "           0       0.98      0.98      0.98      3536\n",
      "           1       0.98      0.98      0.98      2956\n",
      "\n",
      "    accuracy                           0.98      6492\n",
      "   macro avg       0.98      0.98      0.98      6492\n",
      "weighted avg       0.98      0.98      0.98      6492\n",
      "\n"
     ]
    }
   ],
   "source": [
    "# train the model on train set without using GridSearchCV \n",
    "\n",
    "model = SVC() \n",
    "model.fit(BOW_train, y_train) \n",
    "\n",
    "# print prediction results \n",
    "predictions = model.predict(BOW_test) \n",
    "print(classification_report(y_test, predictions)) "
   ]
  },
  {
   "cell_type": "code",
   "execution_count": 20,
   "id": "13dcea88",
   "metadata": {},
   "outputs": [
    {
     "name": "stdout",
     "output_type": "stream",
     "text": [
      "Fitting 5 folds for each of 12 candidates, totalling 60 fits\n",
      "{'C': 10, 'gamma': 'scale', 'kernel': 'rbf'} 0.982387676508344\n"
     ]
    }
   ],
   "source": [
    "# defining parameter range \n",
    "\n",
    "    \n",
    "param_grid = {'C': [0.1, 10, 100],  \n",
    "              'gamma': [1, 3, 4, 7, 12], \n",
    "              'gamma':['scale', 'auto'],\n",
    "              'kernel': ['linear', 'rbf']}     \n",
    "    \n",
    "cv = StratifiedShuffleSplit(n_splits=5, test_size=0.2, random_state=42)\n",
    "\n",
    "grid = GridSearchCV(SVC(), param_grid=param_grid, cv=cv, refit = True, verbose = 2,n_jobs=-1)\n",
    "\n",
    "# fitting the model for grid search \n",
    "grid.fit(BOW_train, y_train) \n",
    "    \n",
    "# print best parameter after tuning \n",
    "\n",
    "print(grid.best_params_, grid.best_score_) \n",
    "\n",
    "grid_validation = grid.predict(BOW_test) "
   ]
  },
  {
   "cell_type": "code",
   "execution_count": 21,
   "id": "231e4d7f",
   "metadata": {},
   "outputs": [
    {
     "data": {
      "text/html": [
       "<div>\n",
       "<style scoped>\n",
       "    .dataframe tbody tr th:only-of-type {\n",
       "        vertical-align: middle;\n",
       "    }\n",
       "\n",
       "    .dataframe tbody tr th {\n",
       "        vertical-align: top;\n",
       "    }\n",
       "\n",
       "    .dataframe thead th {\n",
       "        text-align: right;\n",
       "    }\n",
       "</style>\n",
       "<table border=\"1\" class=\"dataframe\">\n",
       "  <thead>\n",
       "    <tr style=\"text-align: right;\">\n",
       "      <th></th>\n",
       "      <th>mean_fit_time</th>\n",
       "      <th>std_fit_time</th>\n",
       "      <th>mean_score_time</th>\n",
       "      <th>std_score_time</th>\n",
       "      <th>param_C</th>\n",
       "      <th>param_gamma</th>\n",
       "      <th>param_kernel</th>\n",
       "      <th>params</th>\n",
       "      <th>split0_test_score</th>\n",
       "      <th>split1_test_score</th>\n",
       "      <th>split2_test_score</th>\n",
       "      <th>split3_test_score</th>\n",
       "      <th>split4_test_score</th>\n",
       "      <th>mean_test_score</th>\n",
       "      <th>std_test_score</th>\n",
       "      <th>rank_test_score</th>\n",
       "    </tr>\n",
       "  </thead>\n",
       "  <tbody>\n",
       "    <tr>\n",
       "      <th>5</th>\n",
       "      <td>151.605620</td>\n",
       "      <td>0.479804</td>\n",
       "      <td>17.772256</td>\n",
       "      <td>0.594684</td>\n",
       "      <td>10</td>\n",
       "      <td>scale</td>\n",
       "      <td>rbf</td>\n",
       "      <td>{'C': 10, 'gamma': 'scale', 'kernel': 'rbf'}</td>\n",
       "      <td>0.981515</td>\n",
       "      <td>0.982285</td>\n",
       "      <td>0.983312</td>\n",
       "      <td>0.982028</td>\n",
       "      <td>0.982798</td>\n",
       "      <td>0.982388</td>\n",
       "      <td>0.000620</td>\n",
       "      <td>1</td>\n",
       "    </tr>\n",
       "    <tr>\n",
       "      <th>9</th>\n",
       "      <td>164.415247</td>\n",
       "      <td>10.299906</td>\n",
       "      <td>18.878717</td>\n",
       "      <td>3.539507</td>\n",
       "      <td>100</td>\n",
       "      <td>scale</td>\n",
       "      <td>rbf</td>\n",
       "      <td>{'C': 100, 'gamma': 'scale', 'kernel': 'rbf'}</td>\n",
       "      <td>0.981515</td>\n",
       "      <td>0.982285</td>\n",
       "      <td>0.983312</td>\n",
       "      <td>0.982028</td>\n",
       "      <td>0.982798</td>\n",
       "      <td>0.982388</td>\n",
       "      <td>0.000620</td>\n",
       "      <td>1</td>\n",
       "    </tr>\n",
       "    <tr>\n",
       "      <th>0</th>\n",
       "      <td>86.624478</td>\n",
       "      <td>6.074468</td>\n",
       "      <td>18.800175</td>\n",
       "      <td>0.828112</td>\n",
       "      <td>0.1</td>\n",
       "      <td>scale</td>\n",
       "      <td>linear</td>\n",
       "      <td>{'C': 0.1, 'gamma': 'scale', 'kernel': 'linear'}</td>\n",
       "      <td>0.975866</td>\n",
       "      <td>0.974326</td>\n",
       "      <td>0.977150</td>\n",
       "      <td>0.976637</td>\n",
       "      <td>0.974326</td>\n",
       "      <td>0.975661</td>\n",
       "      <td>0.001164</td>\n",
       "      <td>3</td>\n",
       "    </tr>\n",
       "    <tr>\n",
       "      <th>2</th>\n",
       "      <td>81.558300</td>\n",
       "      <td>3.043816</td>\n",
       "      <td>19.151883</td>\n",
       "      <td>1.374389</td>\n",
       "      <td>0.1</td>\n",
       "      <td>auto</td>\n",
       "      <td>linear</td>\n",
       "      <td>{'C': 0.1, 'gamma': 'auto', 'kernel': 'linear'}</td>\n",
       "      <td>0.975866</td>\n",
       "      <td>0.974326</td>\n",
       "      <td>0.977150</td>\n",
       "      <td>0.976637</td>\n",
       "      <td>0.974326</td>\n",
       "      <td>0.975661</td>\n",
       "      <td>0.001164</td>\n",
       "      <td>3</td>\n",
       "    </tr>\n",
       "    <tr>\n",
       "      <th>11</th>\n",
       "      <td>79.344628</td>\n",
       "      <td>4.940388</td>\n",
       "      <td>13.478717</td>\n",
       "      <td>0.554438</td>\n",
       "      <td>100</td>\n",
       "      <td>auto</td>\n",
       "      <td>rbf</td>\n",
       "      <td>{'C': 100, 'gamma': 'auto', 'kernel': 'rbf'}</td>\n",
       "      <td>0.975866</td>\n",
       "      <td>0.974326</td>\n",
       "      <td>0.977150</td>\n",
       "      <td>0.976637</td>\n",
       "      <td>0.974326</td>\n",
       "      <td>0.975661</td>\n",
       "      <td>0.001164</td>\n",
       "      <td>3</td>\n",
       "    </tr>\n",
       "  </tbody>\n",
       "</table>\n",
       "</div>"
      ],
      "text/plain": [
       "    mean_fit_time  std_fit_time  mean_score_time  std_score_time param_C  \\\n",
       "5      151.605620      0.479804        17.772256        0.594684      10   \n",
       "9      164.415247     10.299906        18.878717        3.539507     100   \n",
       "0       86.624478      6.074468        18.800175        0.828112     0.1   \n",
       "2       81.558300      3.043816        19.151883        1.374389     0.1   \n",
       "11      79.344628      4.940388        13.478717        0.554438     100   \n",
       "\n",
       "   param_gamma param_kernel                                            params  \\\n",
       "5        scale          rbf      {'C': 10, 'gamma': 'scale', 'kernel': 'rbf'}   \n",
       "9        scale          rbf     {'C': 100, 'gamma': 'scale', 'kernel': 'rbf'}   \n",
       "0        scale       linear  {'C': 0.1, 'gamma': 'scale', 'kernel': 'linear'}   \n",
       "2         auto       linear   {'C': 0.1, 'gamma': 'auto', 'kernel': 'linear'}   \n",
       "11        auto          rbf      {'C': 100, 'gamma': 'auto', 'kernel': 'rbf'}   \n",
       "\n",
       "    split0_test_score  split1_test_score  split2_test_score  \\\n",
       "5            0.981515           0.982285           0.983312   \n",
       "9            0.981515           0.982285           0.983312   \n",
       "0            0.975866           0.974326           0.977150   \n",
       "2            0.975866           0.974326           0.977150   \n",
       "11           0.975866           0.974326           0.977150   \n",
       "\n",
       "    split3_test_score  split4_test_score  mean_test_score  std_test_score  \\\n",
       "5            0.982028           0.982798         0.982388        0.000620   \n",
       "9            0.982028           0.982798         0.982388        0.000620   \n",
       "0            0.976637           0.974326         0.975661        0.001164   \n",
       "2            0.976637           0.974326         0.975661        0.001164   \n",
       "11           0.976637           0.974326         0.975661        0.001164   \n",
       "\n",
       "    rank_test_score  \n",
       "5                 1  \n",
       "9                 1  \n",
       "0                 3  \n",
       "2                 3  \n",
       "11                3  "
      ]
     },
     "execution_count": 21,
     "metadata": {},
     "output_type": "execute_result"
    }
   ],
   "source": [
    "# Best fitted models \n",
    "import pandas as pd\n",
    "results = pd.DataFrame(grid.cv_results_)\n",
    "results.sort_values(by='rank_test_score', inplace=True)\n",
    "results.head()"
   ]
  },
  {
   "cell_type": "code",
   "execution_count": 22,
   "id": "76643979",
   "metadata": {},
   "outputs": [],
   "source": [
    "model = SVC(C = 10, gamma = 'scale', kernel = 'rbf') \n",
    "model.fit(BOW_train, y_train) \n",
    "\n",
    "# print prediction results \n",
    "val_predictions = model.predict(BOW_test) "
   ]
  },
  {
   "cell_type": "code",
   "execution_count": 25,
   "id": "6444a287",
   "metadata": {},
   "outputs": [
    {
     "name": "stdout",
     "output_type": "stream",
     "text": [
      "              precision    recall  f1-score   support\n",
      "\n",
      "           0       0.98      0.99      0.98      3536\n",
      "           1       0.98      0.98      0.98      2956\n",
      "\n",
      "    accuracy                           0.98      6492\n",
      "   macro avg       0.98      0.98      0.98      6492\n",
      "weighted avg       0.98      0.98      0.98      6492\n",
      "\n"
     ]
    }
   ],
   "source": [
    "# print classification report \n",
    "print(classification_report(y_test, val_predictions)) "
   ]
  },
  {
   "cell_type": "code",
   "execution_count": 26,
   "id": "1406fd4f",
   "metadata": {},
   "outputs": [
    {
     "data": {
      "text/html": [
       "<div>\n",
       "<style scoped>\n",
       "    .dataframe tbody tr th:only-of-type {\n",
       "        vertical-align: middle;\n",
       "    }\n",
       "\n",
       "    .dataframe tbody tr th {\n",
       "        vertical-align: top;\n",
       "    }\n",
       "\n",
       "    .dataframe thead th {\n",
       "        text-align: right;\n",
       "    }\n",
       "</style>\n",
       "<table border=\"1\" class=\"dataframe\">\n",
       "  <thead>\n",
       "    <tr style=\"text-align: right;\">\n",
       "      <th></th>\n",
       "      <th>precision</th>\n",
       "      <th>recall</th>\n",
       "      <th>f1-score</th>\n",
       "      <th>support</th>\n",
       "    </tr>\n",
       "  </thead>\n",
       "  <tbody>\n",
       "    <tr>\n",
       "      <th>0</th>\n",
       "      <td>0.984454</td>\n",
       "      <td>0.985011</td>\n",
       "      <td>0.984733</td>\n",
       "      <td>3536.000000</td>\n",
       "    </tr>\n",
       "    <tr>\n",
       "      <th>1</th>\n",
       "      <td>0.982058</td>\n",
       "      <td>0.981394</td>\n",
       "      <td>0.981726</td>\n",
       "      <td>2956.000000</td>\n",
       "    </tr>\n",
       "    <tr>\n",
       "      <th>accuracy</th>\n",
       "      <td>0.983364</td>\n",
       "      <td>0.983364</td>\n",
       "      <td>0.983364</td>\n",
       "      <td>0.983364</td>\n",
       "    </tr>\n",
       "    <tr>\n",
       "      <th>macro avg</th>\n",
       "      <td>0.983256</td>\n",
       "      <td>0.983203</td>\n",
       "      <td>0.983229</td>\n",
       "      <td>6492.000000</td>\n",
       "    </tr>\n",
       "    <tr>\n",
       "      <th>weighted avg</th>\n",
       "      <td>0.983363</td>\n",
       "      <td>0.983364</td>\n",
       "      <td>0.983364</td>\n",
       "      <td>6492.000000</td>\n",
       "    </tr>\n",
       "  </tbody>\n",
       "</table>\n",
       "</div>"
      ],
      "text/plain": [
       "              precision    recall  f1-score      support\n",
       "0              0.984454  0.985011  0.984733  3536.000000\n",
       "1              0.982058  0.981394  0.981726  2956.000000\n",
       "accuracy       0.983364  0.983364  0.983364     0.983364\n",
       "macro avg      0.983256  0.983203  0.983229  6492.000000\n",
       "weighted avg   0.983363  0.983364  0.983364  6492.000000"
      ]
     },
     "execution_count": 26,
     "metadata": {},
     "output_type": "execute_result"
    }
   ],
   "source": [
    "report = classification_report(y_test, val_predictions, output_dict=True)\n",
    "df = pd.DataFrame(report).transpose()\n",
    "df"
   ]
  },
  {
   "cell_type": "code",
   "execution_count": 27,
   "id": "94e199ad",
   "metadata": {},
   "outputs": [
    {
     "data": {
      "image/png": "[encoded data removed]",
      "text/plain": [
       "<Figure size 1080x504 with 2 Axes>"
      ]
     },
     "metadata": {
      "needs_background": "light"
     },
     "output_type": "display_data"
    }
   ],
   "source": [
    "#  visualize confusion matrix\n",
    "\n",
    "labels = ['Engineering', 'Startups & Business', 'Product & Design']\n",
    "\n",
    "conf_mat = confusion_matrix(y_test, val_predictions)\n",
    "fig, ax = plt.subplots(figsize=(15,7))\n",
    "sns.heatmap(conf_mat, annot=True, fmt='d',\n",
    "            xticklabels=labels, yticklabels=labels)\n",
    "plt.ylabel('Actual')\n",
    "plt.xlabel('Predicted')\n",
    "plt.show()"
   ]
  },
  {
   "cell_type": "code",
   "execution_count": 28,
   "id": "69ed9752",
   "metadata": {},
   "outputs": [],
   "source": [
    "#  save model\n",
    "filename = '../models/SVM_model.sav'\n",
    "pickle.dump(model, open(filename, 'wb'))"
   ]
  },
  {
   "cell_type": "markdown",
   "id": "7314da67",
   "metadata": {},
   "source": [
    "## 4. Naive Bayes"
   ]
  },
  {
   "cell_type": "code",
   "execution_count": 35,
   "id": "5c5f154f",
   "metadata": {},
   "outputs": [
    {
     "name": "stdout",
     "output_type": "stream",
     "text": [
      "0.020943641662597656\n"
     ]
    }
   ],
   "source": [
    "# Fitting classifier to the Training set\n",
    "\n",
    "# Start time\n",
    "start = time.time()\n",
    "classifier = MultinomialNB()\n",
    "\n",
    "classifier.fit(BOW_train , y_train)\n",
    "\n",
    "# End time\n",
    "end = time.time()\n",
    "\n",
    "computation_time = end - start\n",
    "\n",
    "print(computation_time)"
   ]
  },
  {
   "cell_type": "code",
   "execution_count": 36,
   "id": "c953ea83",
   "metadata": {},
   "outputs": [
    {
     "name": "stdout",
     "output_type": "stream",
     "text": [
      "Fitting 5 folds for each of 6 candidates, totalling 30 fits\n",
      "0.49494409561157227\n"
     ]
    }
   ],
   "source": [
    "# Using gridSeacrchCV ro get best parameters\n",
    "\n",
    "# defining parameter range \n",
    "start1 = time.time()\n",
    "\n",
    "param_grid = {  \n",
    "'alpha': (1, 0.1, 0.01, 0.001, 0.0001, 0.00001)  \n",
    "}  \n",
    "    \n",
    "cv = StratifiedShuffleSplit(n_splits=5, test_size=0.2, random_state=42)\n",
    "\n",
    "grid = GridSearchCV(classifier, param_grid=param_grid, cv=cv, refit = True, verbose = 2,n_jobs=-1)\n",
    "\n",
    "# fitting the model for grid search \n",
    "grid.fit(BOW_train, y_train) \n",
    "\n",
    "\n",
    "# End time\n",
    "end1 = time.time()\n",
    "\n",
    "computation_time1 = end1 - start1\n",
    "\n",
    "print(computation_time1)"
   ]
  },
  {
   "cell_type": "code",
   "execution_count": 38,
   "id": "30c377c1",
   "metadata": {},
   "outputs": [
    {
     "name": "stdout",
     "output_type": "stream",
     "text": [
      "{'alpha': 1} 0.8580231065468549\n"
     ]
    }
   ],
   "source": [
    " # print best parameter after tuning \n",
    "\n",
    "print(grid.best_params_, grid.best_score_) \n",
    "\n",
    "grid_validation = grid.predict(BOW_test) "
   ]
  },
  {
   "cell_type": "code",
   "execution_count": 39,
   "id": "7b75ea14",
   "metadata": {},
   "outputs": [
    {
     "data": {
      "text/html": [
       "<div>\n",
       "<style scoped>\n",
       "    .dataframe tbody tr th:only-of-type {\n",
       "        vertical-align: middle;\n",
       "    }\n",
       "\n",
       "    .dataframe tbody tr th {\n",
       "        vertical-align: top;\n",
       "    }\n",
       "\n",
       "    .dataframe thead th {\n",
       "        text-align: right;\n",
       "    }\n",
       "</style>\n",
       "<table border=\"1\" class=\"dataframe\">\n",
       "  <thead>\n",
       "    <tr style=\"text-align: right;\">\n",
       "      <th></th>\n",
       "      <th>mean_fit_time</th>\n",
       "      <th>std_fit_time</th>\n",
       "      <th>mean_score_time</th>\n",
       "      <th>std_score_time</th>\n",
       "      <th>param_alpha</th>\n",
       "      <th>params</th>\n",
       "      <th>split0_test_score</th>\n",
       "      <th>split1_test_score</th>\n",
       "      <th>split2_test_score</th>\n",
       "      <th>split3_test_score</th>\n",
       "      <th>split4_test_score</th>\n",
       "      <th>mean_test_score</th>\n",
       "      <th>std_test_score</th>\n",
       "      <th>rank_test_score</th>\n",
       "    </tr>\n",
       "  </thead>\n",
       "  <tbody>\n",
       "    <tr>\n",
       "      <th>0</th>\n",
       "      <td>0.057705</td>\n",
       "      <td>0.001934</td>\n",
       "      <td>0.005154</td>\n",
       "      <td>0.000335</td>\n",
       "      <td>1</td>\n",
       "      <td>{'alpha': 1}</td>\n",
       "      <td>0.859564</td>\n",
       "      <td>0.853402</td>\n",
       "      <td>0.856996</td>\n",
       "      <td>0.860847</td>\n",
       "      <td>0.859307</td>\n",
       "      <td>0.858023</td>\n",
       "      <td>0.002623</td>\n",
       "      <td>1</td>\n",
       "    </tr>\n",
       "    <tr>\n",
       "      <th>5</th>\n",
       "      <td>0.043126</td>\n",
       "      <td>0.004231</td>\n",
       "      <td>0.003124</td>\n",
       "      <td>0.006248</td>\n",
       "      <td>0.00001</td>\n",
       "      <td>{'alpha': 1e-05}</td>\n",
       "      <td>0.857766</td>\n",
       "      <td>0.850064</td>\n",
       "      <td>0.855712</td>\n",
       "      <td>0.858280</td>\n",
       "      <td>0.857510</td>\n",
       "      <td>0.855866</td>\n",
       "      <td>0.003027</td>\n",
       "      <td>2</td>\n",
       "    </tr>\n",
       "    <tr>\n",
       "      <th>4</th>\n",
       "      <td>0.062402</td>\n",
       "      <td>0.005406</td>\n",
       "      <td>0.001711</td>\n",
       "      <td>0.002357</td>\n",
       "      <td>0.0001</td>\n",
       "      <td>{'alpha': 0.0001}</td>\n",
       "      <td>0.857766</td>\n",
       "      <td>0.850064</td>\n",
       "      <td>0.855712</td>\n",
       "      <td>0.858023</td>\n",
       "      <td>0.857253</td>\n",
       "      <td>0.855764</td>\n",
       "      <td>0.002960</td>\n",
       "      <td>3</td>\n",
       "    </tr>\n",
       "    <tr>\n",
       "      <th>2</th>\n",
       "      <td>0.048558</td>\n",
       "      <td>0.011329</td>\n",
       "      <td>0.006248</td>\n",
       "      <td>0.007652</td>\n",
       "      <td>0.01</td>\n",
       "      <td>{'alpha': 0.01}</td>\n",
       "      <td>0.858023</td>\n",
       "      <td>0.850064</td>\n",
       "      <td>0.855712</td>\n",
       "      <td>0.857253</td>\n",
       "      <td>0.857253</td>\n",
       "      <td>0.855661</td>\n",
       "      <td>0.002897</td>\n",
       "      <td>4</td>\n",
       "    </tr>\n",
       "    <tr>\n",
       "      <th>3</th>\n",
       "      <td>0.055376</td>\n",
       "      <td>0.017024</td>\n",
       "      <td>0.011187</td>\n",
       "      <td>0.006142</td>\n",
       "      <td>0.001</td>\n",
       "      <td>{'alpha': 0.001}</td>\n",
       "      <td>0.857766</td>\n",
       "      <td>0.850064</td>\n",
       "      <td>0.855712</td>\n",
       "      <td>0.857253</td>\n",
       "      <td>0.857253</td>\n",
       "      <td>0.855610</td>\n",
       "      <td>0.002857</td>\n",
       "      <td>5</td>\n",
       "    </tr>\n",
       "  </tbody>\n",
       "</table>\n",
       "</div>"
      ],
      "text/plain": [
       "   mean_fit_time  std_fit_time  mean_score_time  std_score_time param_alpha  \\\n",
       "0       0.057705      0.001934         0.005154        0.000335           1   \n",
       "5       0.043126      0.004231         0.003124        0.006248     0.00001   \n",
       "4       0.062402      0.005406         0.001711        0.002357      0.0001   \n",
       "2       0.048558      0.011329         0.006248        0.007652        0.01   \n",
       "3       0.055376      0.017024         0.011187        0.006142       0.001   \n",
       "\n",
       "              params  split0_test_score  split1_test_score  split2_test_score  \\\n",
       "0       {'alpha': 1}           0.859564           0.853402           0.856996   \n",
       "5   {'alpha': 1e-05}           0.857766           0.850064           0.855712   \n",
       "4  {'alpha': 0.0001}           0.857766           0.850064           0.855712   \n",
       "2    {'alpha': 0.01}           0.858023           0.850064           0.855712   \n",
       "3   {'alpha': 0.001}           0.857766           0.850064           0.855712   \n",
       "\n",
       "   split3_test_score  split4_test_score  mean_test_score  std_test_score  \\\n",
       "0           0.860847           0.859307         0.858023        0.002623   \n",
       "5           0.858280           0.857510         0.855866        0.003027   \n",
       "4           0.858023           0.857253         0.855764        0.002960   \n",
       "2           0.857253           0.857253         0.855661        0.002897   \n",
       "3           0.857253           0.857253         0.855610        0.002857   \n",
       "\n",
       "   rank_test_score  \n",
       "0                1  \n",
       "5                2  \n",
       "4                3  \n",
       "2                4  \n",
       "3                5  "
      ]
     },
     "execution_count": 39,
     "metadata": {},
     "output_type": "execute_result"
    }
   ],
   "source": [
    "# Best fitted models \n",
    "import pandas as pd\n",
    "results = pd.DataFrame(grid.cv_results_)\n",
    "results.sort_values(by='rank_test_score', inplace=True)\n",
    "results.head()"
   ]
  },
  {
   "cell_type": "code",
   "execution_count": 40,
   "id": "e64b7d65",
   "metadata": {},
   "outputs": [],
   "source": [
    "best_model = MultinomialNB(alpha = 1) \n",
    "best_model.fit(BOW_train, y_train) \n",
    "\n",
    "# print prediction results \n",
    "val_predictions = best_model.predict(BOW_test) \n",
    "\n"
   ]
  },
  {
   "cell_type": "code",
   "execution_count": 41,
   "id": "8ca10945",
   "metadata": {},
   "outputs": [
    {
     "name": "stdout",
     "output_type": "stream",
     "text": [
      "              precision    recall  f1-score   support\n",
      "\n",
      "           0       0.79      1.00      0.88      3536\n",
      "           1       0.99      0.68      0.81      2956\n",
      "\n",
      "    accuracy                           0.85      6492\n",
      "   macro avg       0.89      0.84      0.84      6492\n",
      "weighted avg       0.88      0.85      0.85      6492\n",
      "\n"
     ]
    }
   ],
   "source": [
    "# print classification report \n",
    "print(classification_report(y_test, val_predictions))"
   ]
  },
  {
   "cell_type": "code",
   "execution_count": 42,
   "id": "3820e7da",
   "metadata": {},
   "outputs": [
    {
     "data": {
      "text/html": [
       "<div>\n",
       "<style scoped>\n",
       "    .dataframe tbody tr th:only-of-type {\n",
       "        vertical-align: middle;\n",
       "    }\n",
       "\n",
       "    .dataframe tbody tr th {\n",
       "        vertical-align: top;\n",
       "    }\n",
       "\n",
       "    .dataframe thead th {\n",
       "        text-align: right;\n",
       "    }\n",
       "</style>\n",
       "<table border=\"1\" class=\"dataframe\">\n",
       "  <thead>\n",
       "    <tr style=\"text-align: right;\">\n",
       "      <th></th>\n",
       "      <th>precision</th>\n",
       "      <th>recall</th>\n",
       "      <th>f1-score</th>\n",
       "      <th>support</th>\n",
       "    </tr>\n",
       "  </thead>\n",
       "  <tbody>\n",
       "    <tr>\n",
       "      <th>0</th>\n",
       "      <td>0.788354</td>\n",
       "      <td>0.995475</td>\n",
       "      <td>0.879890</td>\n",
       "      <td>3536.000000</td>\n",
       "    </tr>\n",
       "    <tr>\n",
       "      <th>1</th>\n",
       "      <td>0.992107</td>\n",
       "      <td>0.680311</td>\n",
       "      <td>0.807144</td>\n",
       "      <td>2956.000000</td>\n",
       "    </tr>\n",
       "    <tr>\n",
       "      <th>accuracy</th>\n",
       "      <td>0.851972</td>\n",
       "      <td>0.851972</td>\n",
       "      <td>0.851972</td>\n",
       "      <td>0.851972</td>\n",
       "    </tr>\n",
       "    <tr>\n",
       "      <th>macro avg</th>\n",
       "      <td>0.890230</td>\n",
       "      <td>0.837893</td>\n",
       "      <td>0.843517</td>\n",
       "      <td>6492.000000</td>\n",
       "    </tr>\n",
       "    <tr>\n",
       "      <th>weighted avg</th>\n",
       "      <td>0.881129</td>\n",
       "      <td>0.851972</td>\n",
       "      <td>0.846767</td>\n",
       "      <td>6492.000000</td>\n",
       "    </tr>\n",
       "  </tbody>\n",
       "</table>\n",
       "</div>"
      ],
      "text/plain": [
       "              precision    recall  f1-score      support\n",
       "0              0.788354  0.995475  0.879890  3536.000000\n",
       "1              0.992107  0.680311  0.807144  2956.000000\n",
       "accuracy       0.851972  0.851972  0.851972     0.851972\n",
       "macro avg      0.890230  0.837893  0.843517  6492.000000\n",
       "weighted avg   0.881129  0.851972  0.846767  6492.000000"
      ]
     },
     "execution_count": 42,
     "metadata": {},
     "output_type": "execute_result"
    }
   ],
   "source": [
    "report = classification_report(y_test, val_predictions, output_dict=True)\n",
    "df = pd.DataFrame(report).transpose()\n",
    "df"
   ]
  },
  {
   "cell_type": "code",
   "execution_count": 43,
   "id": "4f080948",
   "metadata": {},
   "outputs": [
    {
     "data": {
      "image/png": "[encoded data removed]",
      "text/plain": [
       "<Figure size 1080x504 with 2 Axes>"
      ]
     },
     "metadata": {
      "needs_background": "light"
     },
     "output_type": "display_data"
    }
   ],
   "source": [
    "#  visualize confusion matrix\n",
    "\n",
    "labels = ['Engineering', 'Startups & Business', 'Product & Design']\n",
    "\n",
    "conf_mat = confusion_matrix(y_test, val_predictions)\n",
    "fig, ax = plt.subplots(figsize=(15,7))\n",
    "sns.heatmap(conf_mat, annot=True, fmt='d',\n",
    "            xticklabels=labels, yticklabels=labels)\n",
    "plt.ylabel('Actual')\n",
    "plt.xlabel('Predicted')\n",
    "plt.show()"
   ]
  },
  {
   "cell_type": "code",
   "execution_count": 45,
   "id": "f4e0c0e1",
   "metadata": {},
   "outputs": [],
   "source": [
    "#  save model\n",
    "filename = '../models/BOW_MNB_model.sav'\n",
    "pickle.dump(best_model, open(filename, 'wb'))"
   ]
  }
 ],
 "metadata": {
  "kernelspec": {
   "display_name": "Python 3 (ipykernel)",
   "language": "python",
   "name": "python3"
  },
  "language_info": {
   "codemirror_mode": {
    "name": "ipython",
    "version": 3
   },
   "file_extension": ".py",
   "mimetype": "text/x-python",
   "name": "python",
   "nbconvert_exporter": "python",
   "pygments_lexer": "ipython3",
   "version": "3.9.12"
  }
 },
 "nbformat": 4,
 "nbformat_minor": 5
}
